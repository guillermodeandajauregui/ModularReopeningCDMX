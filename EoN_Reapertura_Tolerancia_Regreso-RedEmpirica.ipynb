{
 "cells": [
  {
   "cell_type": "markdown",
   "metadata": {},
   "source": [
    "# Modelo reapertura CDMX\n",
    "## Evaluar tolerancia de regreso"
   ]
  },
  {
   "cell_type": "markdown",
   "metadata": {},
   "source": [
    "Considerando que regresan personas al espacio público, queremos saber que porcentaje de la población puede regresar a la actividad sin que se reactive la actividad epidémica"
   ]
  },
  {
   "cell_type": "markdown",
   "metadata": {},
   "source": [
    "### Cargar paquetes"
   ]
  },
  {
   "cell_type": "code",
   "execution_count": 2,
   "metadata": {},
   "outputs": [],
   "source": [
    "import networkx as nx\n",
    "import matplotlib.pyplot as plt\n",
    "import EoN\n",
    "from matplotlib import rc\n",
    "import scipy\n",
    "import random\n",
    "import pandas as pd\n",
    "import numpy as np\n",
    "from collections import defaultdict"
   ]
  },
  {
   "cell_type": "markdown",
   "metadata": {},
   "source": [
    "# Leer redes nulas\n",
    "\n",
    "- Red CDMX     - la red de la CDMX, obtenida de la encuesta origen destino\n",
    "- Red \"Susana\" - Un subgrafo de la red CDMX con el 25% de los enlaces totales"
   ]
  },
  {
   "cell_type": "code",
   "execution_count": 3,
   "metadata": {},
   "outputs": [],
   "source": [
    "g        = nx.convert_node_labels_to_integers(nx.read_graphml(\"results/redes_eon/g_cdmx_infomap.graphml\")) #red cdmx\n",
    "g_susana = nx.convert_node_labels_to_integers(nx.read_graphml(\"results/redes_eon/g_susana.graphml\"))"
   ]
  },
  {
   "cell_type": "markdown",
   "metadata": {},
   "source": [
    "## Condiciones iniciales el 2020-06-15"
   ]
  },
  {
   "cell_type": "code",
   "execution_count": 4,
   "metadata": {},
   "outputs": [
    {
     "name": "stdout",
     "output_type": "stream",
     "text": [
      "28\n",
      "8\n",
      "80\n",
      "280\n"
     ]
    }
   ],
   "source": [
    "recuperados = 34834\n",
    "infectados  = 10590\n",
    "\n",
    "poblacion_real     = 9000000\n",
    "poblacion_escalada = len(g.nodes())\n",
    "\n",
    "recuperados_escalados = round(recuperados * poblacion_escalada / poblacion_real) \n",
    "infectados_escalados  = round(infectados * poblacion_escalada / poblacion_real) \n",
    "\n",
    "print(recuperados_escalados)\n",
    "print(infectados_escalados)\n",
    "\n",
    "infectados_totales  = round(100*infectados_escalados/10)\n",
    "recuperados_totales = round(100*recuperados_escalados/10)\n",
    "\n",
    "print(infectados_totales)\n",
    "print(recuperados_totales)"
   ]
  },
  {
   "cell_type": "markdown",
   "metadata": {},
   "source": [
    "## Supuestos: \n",
    "\n",
    "- Transmisión sobre la red de contactos de la CDMX \n",
    "- 350k personas se reincorporan\n",
    "\n",
    "\n",
    "\n",
    "(eso lo hago en R porque me es más fácil)"
   ]
  },
  {
   "cell_type": "code",
   "execution_count": 3,
   "metadata": {},
   "outputs": [],
   "source": [
    "# my_fractions = seq(5, 50, by=5)\n",
    "# \n",
    "# lapply(X = my_fractions, FUN = function(i){\n",
    "#   #randomly pick some nodes \n",
    "#   my_fracc = i/100\n",
    "#   set.seed(725)\n",
    "#   my_nodes = sample(x = V(g), size = length(V(g))*my_fracc, replace = F)\n",
    "#   #get their ego graphs\n",
    "#   my_nbs = make_ego_graph(g, order = 1, nodes = my_nodes) \n",
    "#   \n",
    "#   #bind the ego graphs \n",
    "#   reac_g <-\n",
    "#     my_nbs %>% \n",
    "#     lapply(FUN = function(i){get.data.frame(x = i, what = \"edges\")}) %>% \n",
    "#     bind_rows() %>% \n",
    "#     unique() %>% \n",
    "#     graph_from_data_frame(directed = F)\n",
    "#   \n",
    "#   #join with susana \n",
    "#   \n",
    "#   jg = igraph::union(g_susana, reac_g)\n",
    "#   \n",
    "#   #writeout \n",
    "#   padded  = str_pad(string = i, width = 2, side = \"left\", pad = \"0\")\n",
    "#   fileout = paste0(\"results/redes_eon/\", \"g_reactivate_\", padded, \"percent.graphml\")\n",
    "#   \n",
    "#   write.graph(graph = jg, file = fileout, format = \"graphml\")\n",
    "# })"
   ]
  },
  {
   "cell_type": "markdown",
   "metadata": {},
   "source": [
    "### Leer reincorporacion 5, 25, y 50 para empezar"
   ]
  },
  {
   "cell_type": "code",
   "execution_count": 5,
   "metadata": {},
   "outputs": [],
   "source": [
    "g_05 = nx.convert_node_labels_to_integers(nx.read_graphml(\"results/redes_eon/g_reactivate_05percent.graphml\"))\n",
    "g_25 = nx.convert_node_labels_to_integers(nx.read_graphml(\"results/redes_eon/g_reactivate_25percent.graphml\"))\n",
    "g_50 = nx.convert_node_labels_to_integers(nx.read_graphml(\"results/redes_eon/g_reactivate_50percent.graphml\"))"
   ]
  },
  {
   "cell_type": "markdown",
   "metadata": {},
   "source": [
    "## Definir la dinámica epidémica"
   ]
  },
  {
   "cell_type": "code",
   "execution_count": 6,
   "metadata": {},
   "outputs": [],
   "source": [
    "## transiciones\n",
    "\n",
    "#g\n",
    "\n",
    "#Stochastic transition E-I \n",
    "ei_node_attribute = {node: random.uniform(a=0.5, b=2) for node in g.nodes()}\n",
    "#Stochastic transition I-R \n",
    "#will multiply recovery rate for some factor so it is between 14 and 28 days \n",
    "ir_node_attribute = {node: random.randint(a=1, b=2) for node in g.nodes()}\n",
    "#Transmission weight - varies for each pair of interactions (some contacts are very transmisive, others not so)\n",
    "edge_attribute_dict = {edge: 0.5+random.random() for edge in g.edges()} \n",
    "\n",
    "\n",
    "\n",
    "nx.set_node_attributes(g, values=ei_node_attribute, name='expose2infect_weight')\n",
    "nx.set_node_attributes(g, values=ir_node_attribute, name='infect2recove_weight')\n",
    "nx.set_edge_attributes(g, values=edge_attribute_dict, name='transmission_weight')"
   ]
  },
  {
   "cell_type": "code",
   "execution_count": 7,
   "metadata": {},
   "outputs": [],
   "source": [
    "#g_susana\n",
    "\n",
    "#Stochastic transition E-I \n",
    "ei_node_attribute = {node: random.uniform(a=0.5, b=2) for node in g_susana.nodes()}\n",
    "#Stochastic transition I-R \n",
    "#will multiply recovery rate for some factor so it is between 14 and 28 days \n",
    "ir_node_attribute = {node: random.randint(a=1, b=2) for node in g_susana.nodes()}\n",
    "#Transmission weight - varies for each pair of interactions (some contacts are very transmisive, others not so)\n",
    "edge_attribute_dict = {edge: 0.5+random.random() for edge in g_susana.edges()} \n",
    "\n",
    "nx.set_node_attributes(g_susana, values=ei_node_attribute, name='expose2infect_weight')\n",
    "nx.set_node_attributes(g_susana, values=ir_node_attribute, name='infect2recove_weight')\n",
    "nx.set_edge_attributes(g_susana, values=edge_attribute_dict, name='transmission_weight')\n",
    "\n"
   ]
  },
  {
   "cell_type": "code",
   "execution_count": 9,
   "metadata": {},
   "outputs": [],
   "source": [
    "#g_05\n",
    "\n",
    "#Stochastic transition E-I \n",
    "ei_node_attribute = {node: random.uniform(a=0.5, b=2) for node in g_05.nodes()}\n",
    "#Stochastic transition I-R \n",
    "#will multiply recovery rate for some factor so it is between 14 and 28 days \n",
    "ir_node_attribute = {node: random.randint(a=1, b=2) for node in g_05.nodes()}\n",
    "#Transmission weight - varies for each pair of interactions (some contacts are very transmisive, others not so)\n",
    "edge_attribute_dict = {edge: 0.5+random.random() for edge in g_05.edges()} \n",
    "\n",
    "nx.set_node_attributes(g_05, values=ei_node_attribute, name='expose2infect_weight')\n",
    "nx.set_node_attributes(g_05, values=ir_node_attribute, name='infect2recove_weight')\n",
    "nx.set_edge_attributes(g_05, values=edge_attribute_dict, name='transmission_weight')\n",
    "\n",
    "#g_25\n",
    "\n",
    "#Stochastic transition E-I \n",
    "ei_node_attribute = {node: random.uniform(a=0.5, b=2) for node in g_25.nodes()}\n",
    "#Stochastic transition I-R \n",
    "#will multiply recovery rate for some factor so it is between 14 and 28 days \n",
    "ir_node_attribute = {node: random.randint(a=1, b=2) for node in g_25.nodes()}\n",
    "#Transmission weight - varies for each pair of interactions (some contacts are very transmisive, others not so)\n",
    "edge_attribute_dict = {edge: 0.5+random.random() for edge in g_25.edges()} \n",
    "\n",
    "nx.set_node_attributes(g_25, values=ei_node_attribute, name='expose2infect_weight')\n",
    "nx.set_node_attributes(g_25, values=ir_node_attribute, name='infect2recove_weight')\n",
    "nx.set_edge_attributes(g_25, values=edge_attribute_dict, name='transmission_weight')\n",
    "\n",
    "#g_50\n",
    "\n",
    "#Stochastic transition E-I \n",
    "ei_node_attribute = {node: random.uniform(a=0.5, b=2) for node in g_50.nodes()}\n",
    "#Stochastic transition I-R \n",
    "#will multiply recovery rate for some factor so it is between 14 and 28 days \n",
    "ir_node_attribute = {node: random.randint(a=1, b=2) for node in g_50.nodes()}\n",
    "#Transmission weight - varies for each pair of interactions (some contacts are very transmisive, others not so)\n",
    "edge_attribute_dict = {edge: 0.5+random.random() for edge in g_50.edges()} \n",
    "\n",
    "nx.set_node_attributes(g_50, values=ei_node_attribute, name='expose2infect_weight')\n",
    "nx.set_node_attributes(g_50, values=ir_node_attribute, name='infect2recove_weight')\n",
    "nx.set_edge_attributes(g_50, values=edge_attribute_dict, name='transmission_weight')"
   ]
  },
  {
   "cell_type": "code",
   "execution_count": 102,
   "metadata": {},
   "outputs": [
    {
     "name": "stdout",
     "output_type": "stream",
     "text": [
      "0.125\n"
     ]
    }
   ],
   "source": [
    "### rates\n",
    "ei_rate = 1/1.5 # so that minimum rate is 12 hours, maximum is 72\n",
    "ir_rate = 1/(14) # so minimum time is 14 days, and maximum time is 28 days\n",
    "\n",
    "\n",
    "#transmission_rate = 0.155 #old SEIRSplus\n",
    "#transmission_rate = 0.030\n",
    "#transmission_rate = 0.00125\n",
    "#transmission_rate = 0.0025\n",
    "#transmission_rate = 0.0040\n",
    "\n",
    "#this represents the baseline transmission. Let's use the one we used with SEIRSplus\n",
    "SIGMA  = 1/5.2\n",
    "GAMMA  = 1/10\n",
    "MU_I   = 0.002\n",
    "R0     = 2.5\n",
    "transmission_rate   = 1/(1/GAMMA) * R0\n",
    "\n",
    "transmission_rate = 0.125\n",
    "print(transmission_rate)"
   ]
  },
  {
   "cell_type": "code",
   "execution_count": 103,
   "metadata": {},
   "outputs": [],
   "source": [
    "#the node intrinsic transitions\n",
    "H = nx.DiGraph()\n",
    "H.add_node('S') #This line is actually unnecessary since 'S' does not change status intrinsically\n",
    "#\n",
    "H.add_edge('E', 'I', rate = ei_rate, weight_label='expose2infect_weight')\n",
    "#\n",
    "H.add_edge('I', 'R', rate = ir_rate, weight_label ='infect2recove_weight')\n",
    "\n",
    "#interaction depending transitions\n",
    "J = nx.DiGraph()\n",
    "J.add_edge(('I', 'S'), ('I', 'E'), rate = transmission_rate, weight_label='transmission_weight')\n",
    "#  The line above states that an 'I' individual will cause an 'S' individual\n",
    "#  to transition to 'E' with rate equal to 0.1 times the partnership's attribute\n",
    "#  'transmission_weight'.\n"
   ]
  },
  {
   "cell_type": "code",
   "execution_count": 104,
   "metadata": {},
   "outputs": [],
   "source": [
    "IC = defaultdict(lambda: 'S')\n",
    "for node in range(infectados_totales-1):\n",
    "\n",
    "    IC[node] = 'I'\n",
    "    \n",
    "for node in range(infectados_totales, recuperados_totales):\n",
    "    \n",
    "    IC[node] = 'R'\n",
    "    \n",
    "return_statuses = ('S', 'E', 'I', 'R')"
   ]
  },
  {
   "cell_type": "markdown",
   "metadata": {},
   "source": [
    "# Modelo Nulo, Regresar a la normalidad absoluta"
   ]
  },
  {
   "cell_type": "code",
   "execution_count": 105,
   "metadata": {},
   "outputs": [
    {
     "data": {
      "text/plain": [
       "<matplotlib.axes._subplots.AxesSubplot at 0x7fdf3defb2e0>"
      ]
     },
     "execution_count": 105,
     "metadata": {},
     "output_type": "execute_result"
    },
    {
     "data": {
      "image/png": "[encoded data removed]",
      "text/plain": [
       "<Figure size 432x288 with 1 Axes>"
      ]
     },
     "metadata": {
      "needs_background": "light"
     },
     "output_type": "display_data"
    }
   ],
   "source": [
    "mod_nuloAbs = EoN.Gillespie_simple_contagion(G=g, \n",
    "                                            spontaneous_transition_graph=H,\n",
    "                                            nbr_induced_transition_graph=J, \n",
    "                                            IC=IC, \n",
    "                                            return_statuses=return_statuses,\n",
    "                                            return_full_data=True,\n",
    "                                            tmax=1000\n",
    "                                            )\n",
    "my_result = mod_nuloAbs\n",
    "\n",
    "my_result.summary()[0]\n",
    "\n",
    "predata = my_result.summary()[1]\n",
    "predata[\"t\"] = my_result.summary()[0]\n",
    "\n",
    "\n",
    "df = pd.DataFrame(predata)\n",
    "df = df.assign(I_pc=100*df['I']/poblacion_escalada)\n",
    "\n",
    "df.to_csv(\"results/redes_eon/null_normalidad.csv\")\n",
    "\n",
    "df.plot(x=\"t\", y=\"I_pc\")"
   ]
  },
  {
   "cell_type": "code",
   "execution_count": 106,
   "metadata": {},
   "outputs": [],
   "source": [
    "\n",
    "\n",
    "# probando = []\n",
    "\n",
    "# for i in range(3):\n",
    "    \n",
    "#     #my_series = i*pd.Series(range(3))\n",
    "\n",
    "#     mod_nuloAbs = EoN.Gillespie_simple_contagion(G=g, \n",
    "#                                                  spontaneous_transition_graph=H,\n",
    "#                                                  nbr_induced_transition_graph=J, \n",
    "#                                                  IC=IC, \n",
    "#                                                  return_statuses=return_statuses,\n",
    "#                                                  return_full_data=True,\n",
    "#                                                  tmax=1000\n",
    "#                                                  )\n",
    "#     my_result = mod_nuloAbs\n",
    "\n",
    "#     my_result.summary()[0]\n",
    "   \n",
    "#     predata = my_result.summary()[1]\n",
    "#     predata[\"t\"] = my_result.summary()[0]\n",
    "#     df = pd.DataFrame(predata)\n",
    "#     df = df.assign(I_pc=100*df['I']/poblacion_escalada)\n",
    "    \n",
    "#     probando.append(df)\n",
    "\n",
    "# # df.to_csv(\"results/redes_eon/null_normalidad.csv\")\n",
    "\n",
    "# # df.plot(x=\"t\", y=\"I_pc\")\n",
    "\n",
    "# probando = pd.concat(probando, axis=1, join='outer')\n",
    "# print(probando)"
   ]
  },
  {
   "cell_type": "markdown",
   "metadata": {},
   "source": [
    "# Modelo Nulo, preservar Susana Distancia"
   ]
  },
  {
   "cell_type": "code",
   "execution_count": 107,
   "metadata": {},
   "outputs": [
    {
     "data": {
      "text/plain": [
       "<matplotlib.axes._subplots.AxesSubplot at 0x7fdf4e6b8a30>"
      ]
     },
     "execution_count": 107,
     "metadata": {},
     "output_type": "execute_result"
    },
    {
     "data": {
      "image/png": "[encoded data removed]",
      "text/plain": [
       "<Figure size 432x288 with 1 Axes>"
      ]
     },
     "metadata": {
      "needs_background": "light"
     },
     "output_type": "display_data"
    }
   ],
   "source": [
    "mod_susana = EoN.Gillespie_simple_contagion(G=g_susana, \n",
    "                                            spontaneous_transition_graph=H,\n",
    "                                            nbr_induced_transition_graph=J, \n",
    "                                            IC=IC, \n",
    "                                            return_statuses=return_statuses,\n",
    "                                            return_full_data=True,\n",
    "                                            tmax=1000\n",
    "                                            )\n",
    "my_result = mod_susana\n",
    "\n",
    "my_result.summary()[0]\n",
    "\n",
    "predata = my_result.summary()[1]\n",
    "predata[\"t\"] = my_result.summary()[0]\n",
    "\n",
    "df = pd.DataFrame(predata)\n",
    "df = df.assign(I_pc=100*df['I']/poblacion_escalada)\n",
    "\n",
    "df.to_csv(\"results/redes_eon/null_susana.csv\")\n",
    "\n",
    "df.plot(x=\"t\", y=\"I_pc\")"
   ]
  },
  {
   "cell_type": "markdown",
   "metadata": {},
   "source": [
    "\n",
    "# Escenario de regreso: 05% de la población"
   ]
  },
  {
   "cell_type": "code",
   "execution_count": 108,
   "metadata": {},
   "outputs": [
    {
     "data": {
      "text/plain": [
       "<matplotlib.axes._subplots.AxesSubplot at 0x7fdf4f232070>"
      ]
     },
     "execution_count": 108,
     "metadata": {},
     "output_type": "execute_result"
    },
    {
     "data": {
      "image/png": "[encoded data removed]",
      "text/plain": [
       "<Figure size 432x288 with 1 Axes>"
      ]
     },
     "metadata": {
      "needs_background": "light"
     },
     "output_type": "display_data"
    }
   ],
   "source": [
    "mod_reg05 = EoN.Gillespie_simple_contagion(G=g_05, \n",
    "                                            spontaneous_transition_graph=H,\n",
    "                                            nbr_induced_transition_graph=J, \n",
    "                                            IC=IC, \n",
    "                                            return_statuses=return_statuses,\n",
    "                                            return_full_data=True,\n",
    "                                            tmax=1000\n",
    "                                            )\n",
    "my_result = mod_reg05\n",
    "\n",
    "my_result.summary()[0]\n",
    "\n",
    "predata = my_result.summary()[1]\n",
    "predata[\"t\"] = my_result.summary()[0]\n",
    "\n",
    "df = pd.DataFrame(predata)\n",
    "df = df.assign(I_pc=100*df['I']/poblacion_escalada)\n",
    "\n",
    "df.to_csv(\"results/redes_eon/mod_05.csv\")\n",
    "\n",
    "df.plot(x=\"t\", y=\"I_pc\")"
   ]
  },
  {
   "cell_type": "markdown",
   "metadata": {},
   "source": [
    "# Escenario de regreso:  25% de la población "
   ]
  },
  {
   "cell_type": "code",
   "execution_count": 110,
   "metadata": {},
   "outputs": [
    {
     "data": {
      "text/plain": [
       "<matplotlib.axes._subplots.AxesSubplot at 0x7fdf4acd8640>"
      ]
     },
     "execution_count": 110,
     "metadata": {},
     "output_type": "execute_result"
    },
    {
     "data": {
      "image/png": "[encoded data removed]",
      "text/plain": [
       "<Figure size 432x288 with 1 Axes>"
      ]
     },
     "metadata": {
      "needs_background": "light"
     },
     "output_type": "display_data"
    }
   ],
   "source": [
    "mod_reg25 = EoN.Gillespie_simple_contagion(G=g_25, \n",
    "                                            spontaneous_transition_graph=H,\n",
    "                                            nbr_induced_transition_graph=J, \n",
    "                                            IC=IC, \n",
    "                                            return_statuses=return_statuses,\n",
    "                                            return_full_data=True,\n",
    "                                            tmax=1000\n",
    "                                            )\n",
    "my_result = mod_reg25\n",
    "\n",
    "my_result.summary()[0]\n",
    "\n",
    "predata = my_result.summary()[1]\n",
    "predata[\"t\"] = my_result.summary()[0]\n",
    "\n",
    "df = pd.DataFrame(predata)\n",
    "df = df.assign(I_pc=100*df['I']/poblacion_escalada)\n",
    "\n",
    "df.to_csv(\"results/redes_eon/mod_25.csv\")\n",
    "\n",
    "df.plot(x=\"t\", y=\"I_pc\")"
   ]
  },
  {
   "cell_type": "code",
   "execution_count": 111,
   "metadata": {},
   "outputs": [
    {
     "data": {
      "text/plain": [
       "<matplotlib.axes._subplots.AxesSubplot at 0x7fdf3cfb04c0>"
      ]
     },
     "execution_count": 111,
     "metadata": {},
     "output_type": "execute_result"
    },
    {
     "data": {
      "image/png": "[encoded data removed]",
      "text/plain": [
       "<Figure size 432x288 with 1 Axes>"
      ]
     },
     "metadata": {
      "needs_background": "light"
     },
     "output_type": "display_data"
    }
   ],
   "source": [
    "mod_reg50 = EoN.Gillespie_simple_contagion(G=g_50, \n",
    "                                            spontaneous_transition_graph=H,\n",
    "                                            nbr_induced_transition_graph=J, \n",
    "                                            IC=IC, \n",
    "                                            return_statuses=return_statuses,\n",
    "                                            return_full_data=True,\n",
    "                                            tmax=1000\n",
    "                                            )\n",
    "my_result = mod_reg50\n",
    "\n",
    "my_result.summary()[0]\n",
    "\n",
    "predata = my_result.summary()[1]\n",
    "predata[\"t\"] = my_result.summary()[0]\n",
    "\n",
    "df = pd.DataFrame(predata)\n",
    "df = df.assign(I_pc=100*df['I']/poblacion_escalada)\n",
    "\n",
    "df.to_csv(\"results/redes_eon/mod_50.csv\")\n",
    "\n",
    "df.plot(x=\"t\", y=\"I_pc\")"
   ]
  },
  {
   "cell_type": "markdown",
   "metadata": {},
   "source": [
    "Lo que decíamos antes:\n",
    "\n",
    "Podemos ver que con un 50% de personas que regresen al espacio público, el fenómeno epidémico se regresa practicamente al escenario de no medidas de mitigación"
   ]
  },
  {
   "cell_type": "markdown",
   "metadata": {},
   "source": [
    "## Parece que este es el escenario que observamos en la vida real. "
   ]
  },
  {
   "cell_type": "markdown",
   "metadata": {},
   "source": [
    "# Exploremos el rango de 5 a 20"
   ]
  },
  {
   "cell_type": "code",
   "execution_count": 112,
   "metadata": {},
   "outputs": [],
   "source": [
    "g_10 = nx.convert_node_labels_to_integers(nx.read_graphml(\"results/redes_eon/g_reactivate_10percent.graphml\"))\n",
    "g_15 = nx.convert_node_labels_to_integers(nx.read_graphml(\"results/redes_eon/g_reactivate_15percent.graphml\"))\n",
    "g_20 = nx.convert_node_labels_to_integers(nx.read_graphml(\"results/redes_eon/g_reactivate_20percent.graphml\"))\n"
   ]
  },
  {
   "cell_type": "code",
   "execution_count": 113,
   "metadata": {},
   "outputs": [],
   "source": [
    "#g_10\n",
    "\n",
    "#Stochastic transition E-I \n",
    "ei_node_attribute = {node: random.uniform(a=0.5, b=2) for node in g_10.nodes()}\n",
    "#Stochastic transition I-R \n",
    "#will multiply recovery rate for some factor so it is between 14 and 28 days \n",
    "ir_node_attribute = {node: random.randint(a=1, b=2) for node in g_10.nodes()}\n",
    "#Transmission weight - varies for each pair of interactions (some contacts are very transmisive, others not so)\n",
    "edge_attribute_dict = {edge: 0.5+random.random() for edge in g_10.edges()} \n",
    "\n",
    "nx.set_node_attributes(g_10, values=ei_node_attribute, name='expose2infect_weight')\n",
    "nx.set_node_attributes(g_10, values=ir_node_attribute, name='infect2recove_weight')\n",
    "nx.set_edge_attributes(g_10, values=edge_attribute_dict, name='transmission_weight')\n",
    "\n",
    "#g_15\n",
    "\n",
    "#Stochastic transition E-I \n",
    "ei_node_attribute = {node: random.uniform(a=0.5, b=2) for node in g_15.nodes()}\n",
    "#Stochastic transition I-R \n",
    "#will multiply recovery rate for some factor so it is between 14 and 28 days \n",
    "ir_node_attribute = {node: random.randint(a=1, b=2) for node in g_15.nodes()}\n",
    "#Transmission weight - varies for each pair of interactions (some contacts are very transmisive, others not so)\n",
    "edge_attribute_dict = {edge: 0.5+random.random() for edge in g_15.edges()} \n",
    "\n",
    "nx.set_node_attributes(g_15, values=ei_node_attribute, name='expose2infect_weight')\n",
    "nx.set_node_attributes(g_15, values=ir_node_attribute, name='infect2recove_weight')\n",
    "nx.set_edge_attributes(g_15, values=edge_attribute_dict, name='transmission_weight')\n",
    "\n",
    "#g_20\n",
    "\n",
    "#Stochastic transition E-I \n",
    "ei_node_attribute = {node: random.uniform(a=0.5, b=2) for node in g_20.nodes()}\n",
    "#Stochastic transition I-R \n",
    "#will multiply recovery rate for some factor so it is between 14 and 28 days \n",
    "ir_node_attribute = {node: random.randint(a=1, b=2) for node in g_20.nodes()}\n",
    "#Transmission weight - varies for each pair of interactions (some contacts are very transmisive, others not so)\n",
    "edge_attribute_dict = {edge: 0.5+random.random() for edge in g_20.edges()} \n",
    "\n",
    "nx.set_node_attributes(g_20, values=ei_node_attribute, name='expose2infect_weight')\n",
    "nx.set_node_attributes(g_20, values=ir_node_attribute, name='infect2recove_weight')\n",
    "nx.set_edge_attributes(g_20, values=edge_attribute_dict, name='transmission_weight')"
   ]
  },
  {
   "cell_type": "markdown",
   "metadata": {},
   "source": [
    "# Escenario de regreso: 10% población"
   ]
  },
  {
   "cell_type": "code",
   "execution_count": 114,
   "metadata": {},
   "outputs": [
    {
     "data": {
      "text/plain": [
       "<matplotlib.axes._subplots.AxesSubplot at 0x7fdf45adf4c0>"
      ]
     },
     "execution_count": 114,
     "metadata": {},
     "output_type": "execute_result"
    },
    {
     "data": {
      "image/png": "[encoded data removed]",
      "text/plain": [
       "<Figure size 432x288 with 1 Axes>"
      ]
     },
     "metadata": {
      "needs_background": "light"
     },
     "output_type": "display_data"
    }
   ],
   "source": [
    "mod_reg10 = EoN.Gillespie_simple_contagion(G=g_10, \n",
    "                                            spontaneous_transition_graph=H,\n",
    "                                            nbr_induced_transition_graph=J, \n",
    "                                            IC=IC, \n",
    "                                            return_statuses=return_statuses,\n",
    "                                            return_full_data=True,\n",
    "                                            tmax=1000\n",
    "                                            )\n",
    "my_result = mod_reg10\n",
    "\n",
    "my_result.summary()[0]\n",
    "\n",
    "predata = my_result.summary()[1]\n",
    "predata[\"t\"] = my_result.summary()[0]\n",
    "\n",
    "df = pd.DataFrame(predata)\n",
    "df = df.assign(I_pc=100*df['I']/poblacion_escalada)\n",
    "\n",
    "df.to_csv(\"results/redes_eon/mod_10.csv\")\n",
    "\n",
    "df.plot(x=\"t\", y=\"I_pc\")"
   ]
  },
  {
   "cell_type": "markdown",
   "metadata": {},
   "source": [
    "# Escenario 15%"
   ]
  },
  {
   "cell_type": "code",
   "execution_count": 115,
   "metadata": {},
   "outputs": [
    {
     "data": {
      "text/plain": [
       "<matplotlib.axes._subplots.AxesSubplot at 0x7fdf40583f70>"
      ]
     },
     "execution_count": 115,
     "metadata": {},
     "output_type": "execute_result"
    },
    {
     "data": {
      "image/png": "[encoded data removed]",
      "text/plain": [
       "<Figure size 432x288 with 1 Axes>"
      ]
     },
     "metadata": {
      "needs_background": "light"
     },
     "output_type": "display_data"
    }
   ],
   "source": [
    "mod_reg15 = EoN.Gillespie_simple_contagion(G=g_15, \n",
    "                                            spontaneous_transition_graph=H,\n",
    "                                            nbr_induced_transition_graph=J, \n",
    "                                            IC=IC, \n",
    "                                            return_statuses=return_statuses,\n",
    "                                            return_full_data=True,\n",
    "                                            tmax=1000\n",
    "                                            )\n",
    "my_result = mod_reg15\n",
    "\n",
    "my_result.summary()[0]\n",
    "\n",
    "predata = my_result.summary()[1]\n",
    "predata[\"t\"] = my_result.summary()[0]\n",
    "\n",
    "df = pd.DataFrame(predata)\n",
    "df = df.assign(I_pc=100*df['I']/poblacion_escalada)\n",
    "\n",
    "df.to_csv(\"results/redes_eon/mod_15.csv\")\n",
    "\n",
    "df.plot(x=\"t\", y=\"I_pc\")"
   ]
  },
  {
   "cell_type": "markdown",
   "metadata": {},
   "source": [
    "# Escenario 20%"
   ]
  },
  {
   "cell_type": "code",
   "execution_count": 116,
   "metadata": {},
   "outputs": [
    {
     "data": {
      "text/plain": [
       "<matplotlib.axes._subplots.AxesSubplot at 0x7fdf52259ca0>"
      ]
     },
     "execution_count": 116,
     "metadata": {},
     "output_type": "execute_result"
    },
    {
     "data": {
      "image/png": "[encoded data removed]",
      "text/plain": [
       "<Figure size 432x288 with 1 Axes>"
      ]
     },
     "metadata": {
      "needs_background": "light"
     },
     "output_type": "display_data"
    }
   ],
   "source": [
    "mod_reg20 = EoN.Gillespie_simple_contagion(G=g_20, \n",
    "                                            spontaneous_transition_graph=H,\n",
    "                                            nbr_induced_transition_graph=J, \n",
    "                                            IC=IC, \n",
    "                                            return_statuses=return_statuses,\n",
    "                                            return_full_data=True,\n",
    "                                            tmax=1000\n",
    "                                            )\n",
    "my_result = mod_reg20\n",
    "\n",
    "my_result.summary()[0]\n",
    "\n",
    "predata = my_result.summary()[1]\n",
    "predata[\"t\"] = my_result.summary()[0]\n",
    "\n",
    "df = pd.DataFrame(predata)\n",
    "df = df.assign(I_pc=100*df['I']/poblacion_escalada)\n",
    "\n",
    "df.to_csv(\"results/redes_eon/mod_20.csv\")\n",
    "\n",
    "df.plot(x=\"t\", y=\"I_pc\")"
   ]
  },
  {
   "cell_type": "markdown",
   "metadata": {},
   "source": [
    "### Exploremos el intervalo de 5% a 10% para ver la tolerancia máxima de reactivación del brote epidémico"
   ]
  },
  {
   "cell_type": "code",
   "execution_count": 117,
   "metadata": {},
   "outputs": [
    {
     "ename": "FileNotFoundError",
     "evalue": "[Errno 2] No such file or directory: 'results/redes_eon/g_reactivate_06percent.graphml'",
     "output_type": "error",
     "traceback": [
      "\u001b[0;31m---------------------------------------------------------------------------\u001b[0m",
      "\u001b[0;31mFileNotFoundError\u001b[0m                         Traceback (most recent call last)",
      "\u001b[0;32m<ipython-input-117-cefcdb5ffb24>\u001b[0m in \u001b[0;36m<module>\u001b[0;34m\u001b[0m\n\u001b[0;32m----> 1\u001b[0;31m \u001b[0mg_06\u001b[0m \u001b[0;34m=\u001b[0m \u001b[0mnx\u001b[0m\u001b[0;34m.\u001b[0m\u001b[0mconvert_node_labels_to_integers\u001b[0m\u001b[0;34m(\u001b[0m\u001b[0mnx\u001b[0m\u001b[0;34m.\u001b[0m\u001b[0mread_graphml\u001b[0m\u001b[0;34m(\u001b[0m\u001b[0;34m\"results/redes_eon/g_reactivate_06percent.graphml\"\u001b[0m\u001b[0;34m)\u001b[0m\u001b[0;34m)\u001b[0m\u001b[0;34m\u001b[0m\u001b[0;34m\u001b[0m\u001b[0m\n\u001b[0m\u001b[1;32m      2\u001b[0m \u001b[0mg_07\u001b[0m \u001b[0;34m=\u001b[0m \u001b[0mnx\u001b[0m\u001b[0;34m.\u001b[0m\u001b[0mconvert_node_labels_to_integers\u001b[0m\u001b[0;34m(\u001b[0m\u001b[0mnx\u001b[0m\u001b[0;34m.\u001b[0m\u001b[0mread_graphml\u001b[0m\u001b[0;34m(\u001b[0m\u001b[0;34m\"results/redes_eon/g_reactivate_07percent.graphml\"\u001b[0m\u001b[0;34m)\u001b[0m\u001b[0;34m)\u001b[0m\u001b[0;34m\u001b[0m\u001b[0;34m\u001b[0m\u001b[0m\n\u001b[1;32m      3\u001b[0m \u001b[0mg_08\u001b[0m \u001b[0;34m=\u001b[0m \u001b[0mnx\u001b[0m\u001b[0;34m.\u001b[0m\u001b[0mconvert_node_labels_to_integers\u001b[0m\u001b[0;34m(\u001b[0m\u001b[0mnx\u001b[0m\u001b[0;34m.\u001b[0m\u001b[0mread_graphml\u001b[0m\u001b[0;34m(\u001b[0m\u001b[0;34m\"results/redes_eon/g_reactivate_08percent.graphml\"\u001b[0m\u001b[0;34m)\u001b[0m\u001b[0;34m)\u001b[0m\u001b[0;34m\u001b[0m\u001b[0;34m\u001b[0m\u001b[0m\n\u001b[1;32m      4\u001b[0m \u001b[0mg_09\u001b[0m \u001b[0;34m=\u001b[0m \u001b[0mnx\u001b[0m\u001b[0;34m.\u001b[0m\u001b[0mconvert_node_labels_to_integers\u001b[0m\u001b[0;34m(\u001b[0m\u001b[0mnx\u001b[0m\u001b[0;34m.\u001b[0m\u001b[0mread_graphml\u001b[0m\u001b[0;34m(\u001b[0m\u001b[0;34m\"results/redes_eon/g_reactivate_09percent.graphml\"\u001b[0m\u001b[0;34m)\u001b[0m\u001b[0;34m)\u001b[0m\u001b[0;34m\u001b[0m\u001b[0;34m\u001b[0m\u001b[0m\n",
      "\u001b[0;32m<decorator-gen-785>\u001b[0m in \u001b[0;36mread_graphml\u001b[0;34m(path, node_type, edge_key_type)\u001b[0m\n",
      "\u001b[0;32m~/anaconda3/envs/gt/lib/python3.8/site-packages/networkx/utils/decorators.py\u001b[0m in \u001b[0;36m_open_file\u001b[0;34m(func_to_be_decorated, *args, **kwargs)\u001b[0m\n\u001b[1;32m    212\u001b[0m         \u001b[0;32mif\u001b[0m \u001b[0mis_string_like\u001b[0m\u001b[0;34m(\u001b[0m\u001b[0mpath\u001b[0m\u001b[0;34m)\u001b[0m\u001b[0;34m:\u001b[0m\u001b[0;34m\u001b[0m\u001b[0;34m\u001b[0m\u001b[0m\n\u001b[1;32m    213\u001b[0m             \u001b[0mext\u001b[0m \u001b[0;34m=\u001b[0m \u001b[0msplitext\u001b[0m\u001b[0;34m(\u001b[0m\u001b[0mpath\u001b[0m\u001b[0;34m)\u001b[0m\u001b[0;34m[\u001b[0m\u001b[0;36m1\u001b[0m\u001b[0;34m]\u001b[0m\u001b[0;34m\u001b[0m\u001b[0;34m\u001b[0m\u001b[0m\n\u001b[0;32m--> 214\u001b[0;31m             \u001b[0mfobj\u001b[0m \u001b[0;34m=\u001b[0m \u001b[0m_dispatch_dict\u001b[0m\u001b[0;34m[\u001b[0m\u001b[0mext\u001b[0m\u001b[0;34m]\u001b[0m\u001b[0;34m(\u001b[0m\u001b[0mpath\u001b[0m\u001b[0;34m,\u001b[0m \u001b[0mmode\u001b[0m\u001b[0;34m=\u001b[0m\u001b[0mmode\u001b[0m\u001b[0;34m)\u001b[0m\u001b[0;34m\u001b[0m\u001b[0;34m\u001b[0m\u001b[0m\n\u001b[0m\u001b[1;32m    215\u001b[0m             \u001b[0mclose_fobj\u001b[0m \u001b[0;34m=\u001b[0m \u001b[0;32mTrue\u001b[0m\u001b[0;34m\u001b[0m\u001b[0;34m\u001b[0m\u001b[0m\n\u001b[1;32m    216\u001b[0m         \u001b[0;32melif\u001b[0m \u001b[0mhasattr\u001b[0m\u001b[0;34m(\u001b[0m\u001b[0mpath\u001b[0m\u001b[0;34m,\u001b[0m \u001b[0;34m'read'\u001b[0m\u001b[0;34m)\u001b[0m\u001b[0;34m:\u001b[0m\u001b[0;34m\u001b[0m\u001b[0;34m\u001b[0m\u001b[0m\n",
      "\u001b[0;31mFileNotFoundError\u001b[0m: [Errno 2] No such file or directory: 'results/redes_eon/g_reactivate_06percent.graphml'"
     ]
    }
   ],
   "source": [
    "g_06 = nx.convert_node_labels_to_integers(nx.read_graphml(\"results/redes_eon/g_reactivate_06percent.graphml\"))\n",
    "g_07 = nx.convert_node_labels_to_integers(nx.read_graphml(\"results/redes_eon/g_reactivate_07percent.graphml\"))\n",
    "g_08 = nx.convert_node_labels_to_integers(nx.read_graphml(\"results/redes_eon/g_reactivate_08percent.graphml\"))\n",
    "g_09 = nx.convert_node_labels_to_integers(nx.read_graphml(\"results/redes_eon/g_reactivate_09percent.graphml\"))\n"
   ]
  },
  {
   "cell_type": "code",
   "execution_count": 118,
   "metadata": {},
   "outputs": [
    {
     "ename": "NameError",
     "evalue": "name 'g_06' is not defined",
     "output_type": "error",
     "traceback": [
      "\u001b[0;31m---------------------------------------------------------------------------\u001b[0m",
      "\u001b[0;31mNameError\u001b[0m                                 Traceback (most recent call last)",
      "\u001b[0;32m<ipython-input-118-a63de8dbdc39>\u001b[0m in \u001b[0;36m<module>\u001b[0;34m\u001b[0m\n\u001b[1;32m      2\u001b[0m \u001b[0;34m\u001b[0m\u001b[0m\n\u001b[1;32m      3\u001b[0m \u001b[0;31m#Stochastic transition E-I\u001b[0m\u001b[0;34m\u001b[0m\u001b[0;34m\u001b[0m\u001b[0;34m\u001b[0m\u001b[0m\n\u001b[0;32m----> 4\u001b[0;31m \u001b[0mei_node_attribute\u001b[0m \u001b[0;34m=\u001b[0m \u001b[0;34m{\u001b[0m\u001b[0mnode\u001b[0m\u001b[0;34m:\u001b[0m \u001b[0mrandom\u001b[0m\u001b[0;34m.\u001b[0m\u001b[0muniform\u001b[0m\u001b[0;34m(\u001b[0m\u001b[0ma\u001b[0m\u001b[0;34m=\u001b[0m\u001b[0;36m0.5\u001b[0m\u001b[0;34m,\u001b[0m \u001b[0mb\u001b[0m\u001b[0;34m=\u001b[0m\u001b[0;36m2\u001b[0m\u001b[0;34m)\u001b[0m \u001b[0;32mfor\u001b[0m \u001b[0mnode\u001b[0m \u001b[0;32min\u001b[0m \u001b[0mg_06\u001b[0m\u001b[0;34m.\u001b[0m\u001b[0mnodes\u001b[0m\u001b[0;34m(\u001b[0m\u001b[0;34m)\u001b[0m\u001b[0;34m}\u001b[0m\u001b[0;34m\u001b[0m\u001b[0;34m\u001b[0m\u001b[0m\n\u001b[0m\u001b[1;32m      5\u001b[0m \u001b[0;31m#Stochastic transition I-R\u001b[0m\u001b[0;34m\u001b[0m\u001b[0;34m\u001b[0m\u001b[0;34m\u001b[0m\u001b[0m\n\u001b[1;32m      6\u001b[0m \u001b[0;31m#will multiply recovery rate for some factor so it is between 14 and 28 days\u001b[0m\u001b[0;34m\u001b[0m\u001b[0;34m\u001b[0m\u001b[0;34m\u001b[0m\u001b[0m\n",
      "\u001b[0;31mNameError\u001b[0m: name 'g_06' is not defined"
     ]
    }
   ],
   "source": [
    "#g_06\n",
    "\n",
    "#Stochastic transition E-I \n",
    "ei_node_attribute = {node: random.uniform(a=0.5, b=2) for node in g_06.nodes()}\n",
    "#Stochastic transition I-R \n",
    "#will multiply recovery rate for some factor so it is between 14 and 28 days \n",
    "ir_node_attribute = {node: random.randint(a=1, b=2) for node in g_06.nodes()}\n",
    "#Transmission weight - varies for each pair of interactions (some contacts are very transmisive, others not so)\n",
    "edge_attribute_dict = {edge: 0.5+random.random() for edge in g_06.edges()} \n",
    "\n",
    "nx.set_node_attributes(g_06, values=ei_node_attribute, name='expose2infect_weight')\n",
    "nx.set_node_attributes(g_06, values=ir_node_attribute, name='infect2recove_weight')\n",
    "nx.set_edge_attributes(g_06, values=edge_attribute_dict, name='transmission_weight')\n",
    "\n",
    "#g_07\n",
    "\n",
    "#Stochastic transition E-I \n",
    "ei_node_attribute = {node: random.uniform(a=0.5, b=2) for node in g_07.nodes()}\n",
    "#Stochastic transition I-R \n",
    "#will multiply recovery rate for some factor so it is between 14 and 28 days \n",
    "ir_node_attribute = {node: random.randint(a=1, b=2) for node in g_15.nodes()}\n",
    "#Transmission weight - varies for each pair of interactions (some contacts are very transmisive, others not so)\n",
    "edge_attribute_dict = {edge: 0.5+random.random() for edge in g_15.edges()} \n",
    "\n",
    "nx.set_node_attributes(g_07, values=ei_node_attribute, name='expose2infect_weight')\n",
    "nx.set_node_attributes(g_07, values=ir_node_attribute, name='infect2recove_weight')\n",
    "nx.set_edge_attributes(g_07, values=edge_attribute_dict, name='transmission_weight')\n",
    "\n",
    "#g_08\n",
    "\n",
    "#Stochastic transition E-I \n",
    "ei_node_attribute = {node: random.uniform(a=0.5, b=2) for node in g_08.nodes()}\n",
    "#Stochastic transition I-R \n",
    "#will multiply recovery rate for some factor so it is between 14 and 28 days \n",
    "ir_node_attribute = {node: random.randint(a=1, b=2) for node in g_08.nodes()}\n",
    "#Transmission weight - varies for each pair of interactions (some contacts are very transmisive, others not so)\n",
    "edge_attribute_dict = {edge: 0.5+random.random() for edge in g_08.edges()} \n",
    "\n",
    "nx.set_node_attributes(g_08, values=ei_node_attribute, name='expose2infect_weight')\n",
    "nx.set_node_attributes(g_08, values=ir_node_attribute, name='infect2recove_weight')\n",
    "nx.set_edge_attributes(g_08, values=edge_attribute_dict, name='transmission_weight')\n",
    "\n",
    "#g_09\n",
    "\n",
    "#Stochastic transition E-I \n",
    "ei_node_attribute = {node: random.uniform(a=0.5, b=2) for node in g_09.nodes()}\n",
    "#Stochastic transition I-R \n",
    "#will multiply recovery rate for some factor so it is between 14 and 28 days \n",
    "ir_node_attribute = {node: random.randint(a=1, b=2) for node in g_09.nodes()}\n",
    "#Transmission weight - varies for each pair of interactions (some contacts are very transmisive, others not so)\n",
    "edge_attribute_dict = {edge: 0.5+random.random() for edge in g_09.edges()} \n",
    "\n",
    "nx.set_node_attributes(g_09, values=ei_node_attribute, name='expose2infect_weight')\n",
    "nx.set_node_attributes(g_09, values=ir_node_attribute, name='infect2recove_weight')\n",
    "nx.set_edge_attributes(g_09, values=edge_attribute_dict, name='transmission_weight')"
   ]
  },
  {
   "cell_type": "markdown",
   "metadata": {},
   "source": [
    "# Escenario 06%"
   ]
  },
  {
   "cell_type": "code",
   "execution_count": 47,
   "metadata": {},
   "outputs": [
    {
     "ename": "NameError",
     "evalue": "name 'g_06' is not defined",
     "output_type": "error",
     "traceback": [
      "\u001b[0;31m---------------------------------------------------------------------------\u001b[0m",
      "\u001b[0;31mNameError\u001b[0m                                 Traceback (most recent call last)",
      "\u001b[0;32m<ipython-input-47-b267c4cb0d1f>\u001b[0m in \u001b[0;36m<module>\u001b[0;34m\u001b[0m\n\u001b[0;32m----> 1\u001b[0;31m mod_reg06 = EoN.Gillespie_simple_contagion(G=g_06, \n\u001b[0m\u001b[1;32m      2\u001b[0m                                             \u001b[0mspontaneous_transition_graph\u001b[0m\u001b[0;34m=\u001b[0m\u001b[0mH\u001b[0m\u001b[0;34m,\u001b[0m\u001b[0;34m\u001b[0m\u001b[0;34m\u001b[0m\u001b[0m\n\u001b[1;32m      3\u001b[0m                                             \u001b[0mnbr_induced_transition_graph\u001b[0m\u001b[0;34m=\u001b[0m\u001b[0mJ\u001b[0m\u001b[0;34m,\u001b[0m\u001b[0;34m\u001b[0m\u001b[0;34m\u001b[0m\u001b[0m\n\u001b[1;32m      4\u001b[0m                                             \u001b[0mIC\u001b[0m\u001b[0;34m=\u001b[0m\u001b[0mIC\u001b[0m\u001b[0;34m,\u001b[0m\u001b[0;34m\u001b[0m\u001b[0;34m\u001b[0m\u001b[0m\n\u001b[1;32m      5\u001b[0m                                             \u001b[0mreturn_statuses\u001b[0m\u001b[0;34m=\u001b[0m\u001b[0mreturn_statuses\u001b[0m\u001b[0;34m,\u001b[0m\u001b[0;34m\u001b[0m\u001b[0;34m\u001b[0m\u001b[0m\n",
      "\u001b[0;31mNameError\u001b[0m: name 'g_06' is not defined"
     ]
    }
   ],
   "source": [
    "mod_reg06 = EoN.Gillespie_simple_contagion(G=g_06, \n",
    "                                            spontaneous_transition_graph=H,\n",
    "                                            nbr_induced_transition_graph=J, \n",
    "                                            IC=IC, \n",
    "                                            return_statuses=return_statuses,\n",
    "                                            return_full_data=True,\n",
    "                                            tmax=1000\n",
    "                                            )\n",
    "my_result = mod_reg06\n",
    "\n",
    "my_result.summary()[0]\n",
    "\n",
    "predata = my_result.summary()[1]\n",
    "predata[\"t\"] = my_result.summary()[0]\n",
    "\n",
    "df = pd.DataFrame(predata)\n",
    "df = df.assign(I_pc=100*df['I']/poblacion_escalada)\n",
    "\n",
    "df.to_csv(\"results/redes_eon/mod_06.csv\")\n",
    "\n",
    "df.plot(x=\"t\", y=\"I_pc\")"
   ]
  },
  {
   "cell_type": "markdown",
   "metadata": {},
   "source": [
    "# Escenario 7 % "
   ]
  },
  {
   "cell_type": "code",
   "execution_count": 48,
   "metadata": {},
   "outputs": [
    {
     "ename": "NameError",
     "evalue": "name 'g_07' is not defined",
     "output_type": "error",
     "traceback": [
      "\u001b[0;31m---------------------------------------------------------------------------\u001b[0m",
      "\u001b[0;31mNameError\u001b[0m                                 Traceback (most recent call last)",
      "\u001b[0;32m<ipython-input-48-27becd019f6f>\u001b[0m in \u001b[0;36m<module>\u001b[0;34m\u001b[0m\n\u001b[0;32m----> 1\u001b[0;31m mod_reg07 = EoN.Gillespie_simple_contagion(G=g_07, \n\u001b[0m\u001b[1;32m      2\u001b[0m                                             \u001b[0mspontaneous_transition_graph\u001b[0m\u001b[0;34m=\u001b[0m\u001b[0mH\u001b[0m\u001b[0;34m,\u001b[0m\u001b[0;34m\u001b[0m\u001b[0;34m\u001b[0m\u001b[0m\n\u001b[1;32m      3\u001b[0m                                             \u001b[0mnbr_induced_transition_graph\u001b[0m\u001b[0;34m=\u001b[0m\u001b[0mJ\u001b[0m\u001b[0;34m,\u001b[0m\u001b[0;34m\u001b[0m\u001b[0;34m\u001b[0m\u001b[0m\n\u001b[1;32m      4\u001b[0m                                             \u001b[0mIC\u001b[0m\u001b[0;34m=\u001b[0m\u001b[0mIC\u001b[0m\u001b[0;34m,\u001b[0m\u001b[0;34m\u001b[0m\u001b[0;34m\u001b[0m\u001b[0m\n\u001b[1;32m      5\u001b[0m                                             \u001b[0mreturn_statuses\u001b[0m\u001b[0;34m=\u001b[0m\u001b[0mreturn_statuses\u001b[0m\u001b[0;34m,\u001b[0m\u001b[0;34m\u001b[0m\u001b[0;34m\u001b[0m\u001b[0m\n",
      "\u001b[0;31mNameError\u001b[0m: name 'g_07' is not defined"
     ]
    }
   ],
   "source": [
    "mod_reg07 = EoN.Gillespie_simple_contagion(G=g_07, \n",
    "                                            spontaneous_transition_graph=H,\n",
    "                                            nbr_induced_transition_graph=J, \n",
    "                                            IC=IC, \n",
    "                                            return_statuses=return_statuses,\n",
    "                                            return_full_data=True,\n",
    "                                            tmax=1000\n",
    "                                            )\n",
    "my_result = mod_reg07\n",
    "\n",
    "my_result.summary()[0]\n",
    "\n",
    "predata = my_result.summary()[1]\n",
    "predata[\"t\"] = my_result.summary()[0]\n",
    "\n",
    "df = pd.DataFrame(predata)\n",
    "df = df.assign(I_pc=100*df['I']/poblacion_escalada)\n",
    "\n",
    "df.to_csv(\"results/redes_eon/mod_07.csv\")\n",
    "\n",
    "df.plot(x=\"t\", y=\"I_pc\")"
   ]
  },
  {
   "cell_type": "markdown",
   "metadata": {},
   "source": [
    "# Escenario 8%"
   ]
  },
  {
   "cell_type": "code",
   "execution_count": 49,
   "metadata": {},
   "outputs": [
    {
     "ename": "NameError",
     "evalue": "name 'g_08' is not defined",
     "output_type": "error",
     "traceback": [
      "\u001b[0;31m---------------------------------------------------------------------------\u001b[0m",
      "\u001b[0;31mNameError\u001b[0m                                 Traceback (most recent call last)",
      "\u001b[0;32m<ipython-input-49-86b4169ce05c>\u001b[0m in \u001b[0;36m<module>\u001b[0;34m\u001b[0m\n\u001b[0;32m----> 1\u001b[0;31m mod_reg08 = EoN.Gillespie_simple_contagion(G=g_08, \n\u001b[0m\u001b[1;32m      2\u001b[0m                                             \u001b[0mspontaneous_transition_graph\u001b[0m\u001b[0;34m=\u001b[0m\u001b[0mH\u001b[0m\u001b[0;34m,\u001b[0m\u001b[0;34m\u001b[0m\u001b[0;34m\u001b[0m\u001b[0m\n\u001b[1;32m      3\u001b[0m                                             \u001b[0mnbr_induced_transition_graph\u001b[0m\u001b[0;34m=\u001b[0m\u001b[0mJ\u001b[0m\u001b[0;34m,\u001b[0m\u001b[0;34m\u001b[0m\u001b[0;34m\u001b[0m\u001b[0m\n\u001b[1;32m      4\u001b[0m                                             \u001b[0mIC\u001b[0m\u001b[0;34m=\u001b[0m\u001b[0mIC\u001b[0m\u001b[0;34m,\u001b[0m\u001b[0;34m\u001b[0m\u001b[0;34m\u001b[0m\u001b[0m\n\u001b[1;32m      5\u001b[0m                                             \u001b[0mreturn_statuses\u001b[0m\u001b[0;34m=\u001b[0m\u001b[0mreturn_statuses\u001b[0m\u001b[0;34m,\u001b[0m\u001b[0;34m\u001b[0m\u001b[0;34m\u001b[0m\u001b[0m\n",
      "\u001b[0;31mNameError\u001b[0m: name 'g_08' is not defined"
     ]
    }
   ],
   "source": [
    "mod_reg08 = EoN.Gillespie_simple_contagion(G=g_08, \n",
    "                                            spontaneous_transition_graph=H,\n",
    "                                            nbr_induced_transition_graph=J, \n",
    "                                            IC=IC, \n",
    "                                            return_statuses=return_statuses,\n",
    "                                            return_full_data=True,\n",
    "                                            tmax=1000\n",
    "                                            )\n",
    "my_result = mod_reg08\n",
    "\n",
    "my_result.summary()[0]\n",
    "\n",
    "predata = my_result.summary()[1]\n",
    "predata[\"t\"] = my_result.summary()[0]\n",
    "\n",
    "df = pd.DataFrame(predata)\n",
    "df = df.assign(I_pc=100*df['I']/poblacion_escalada)\n",
    "\n",
    "df.to_csv(\"results/redes_eon/mod_08.csv\")\n",
    "\n",
    "df.plot(x=\"t\", y=\"I_pc\")"
   ]
  },
  {
   "cell_type": "markdown",
   "metadata": {},
   "source": [
    "# Escenario 9%"
   ]
  },
  {
   "cell_type": "code",
   "execution_count": 50,
   "metadata": {},
   "outputs": [
    {
     "ename": "NameError",
     "evalue": "name 'g_09' is not defined",
     "output_type": "error",
     "traceback": [
      "\u001b[0;31m---------------------------------------------------------------------------\u001b[0m",
      "\u001b[0;31mNameError\u001b[0m                                 Traceback (most recent call last)",
      "\u001b[0;32m<ipython-input-50-b150b0c4087f>\u001b[0m in \u001b[0;36m<module>\u001b[0;34m\u001b[0m\n\u001b[0;32m----> 1\u001b[0;31m mod_reg09 = EoN.Gillespie_simple_contagion(G=g_09, \n\u001b[0m\u001b[1;32m      2\u001b[0m                                             \u001b[0mspontaneous_transition_graph\u001b[0m\u001b[0;34m=\u001b[0m\u001b[0mH\u001b[0m\u001b[0;34m,\u001b[0m\u001b[0;34m\u001b[0m\u001b[0;34m\u001b[0m\u001b[0m\n\u001b[1;32m      3\u001b[0m                                             \u001b[0mnbr_induced_transition_graph\u001b[0m\u001b[0;34m=\u001b[0m\u001b[0mJ\u001b[0m\u001b[0;34m,\u001b[0m\u001b[0;34m\u001b[0m\u001b[0;34m\u001b[0m\u001b[0m\n\u001b[1;32m      4\u001b[0m                                             \u001b[0mIC\u001b[0m\u001b[0;34m=\u001b[0m\u001b[0mIC\u001b[0m\u001b[0;34m,\u001b[0m\u001b[0;34m\u001b[0m\u001b[0;34m\u001b[0m\u001b[0m\n\u001b[1;32m      5\u001b[0m                                             \u001b[0mreturn_statuses\u001b[0m\u001b[0;34m=\u001b[0m\u001b[0mreturn_statuses\u001b[0m\u001b[0;34m,\u001b[0m\u001b[0;34m\u001b[0m\u001b[0;34m\u001b[0m\u001b[0m\n",
      "\u001b[0;31mNameError\u001b[0m: name 'g_09' is not defined"
     ]
    }
   ],
   "source": [
    "mod_reg09 = EoN.Gillespie_simple_contagion(G=g_09, \n",
    "                                            spontaneous_transition_graph=H,\n",
    "                                            nbr_induced_transition_graph=J, \n",
    "                                            IC=IC, \n",
    "                                            return_statuses=return_statuses,\n",
    "                                            return_full_data=True,\n",
    "                                            tmax=1000\n",
    "                                            )\n",
    "my_result = mod_reg09\n",
    "\n",
    "my_result.summary()[0]\n",
    "\n",
    "predata = my_result.summary()[1]\n",
    "predata[\"t\"] = my_result.summary()[0]\n",
    "\n",
    "df = pd.DataFrame(predata)\n",
    "df = df.assign(I_pc=100*df['I']/poblacion_escalada)\n",
    "\n",
    "df.to_csv(\"results/redes_eon/mod_09.csv\")\n",
    "\n",
    "df.plot(x=\"t\", y=\"I_pc\")"
   ]
  },
  {
   "cell_type": "code",
   "execution_count": null,
   "metadata": {},
   "outputs": [],
   "source": []
  },
  {
   "cell_type": "markdown",
   "metadata": {},
   "source": [
    "# Escenarios Modulares"
   ]
  },
  {
   "cell_type": "markdown",
   "metadata": {},
   "source": [
    "Haciendo el supuesto muy fuerte de que las personas que regresan al espacio público \n",
    "\n",
    "A) pertenecen a un único gran módulo \n",
    "B) pertenecen a varios módulos\n"
   ]
  },
  {
   "cell_type": "code",
   "execution_count": 51,
   "metadata": {},
   "outputs": [],
   "source": [
    "g_m1 = nx.convert_node_labels_to_integers(nx.read_graphml(\"results/redes_eon/g_reapertura_m1.graphml\"))\n",
    "g_m2 = nx.convert_node_labels_to_integers(nx.read_graphml(\"results/redes_eon/g_reapertura_m2.graphml\"))\n"
   ]
  },
  {
   "cell_type": "code",
   "execution_count": 119,
   "metadata": {},
   "outputs": [],
   "source": [
    "#g_m1\n",
    "\n",
    "#Stochastic transition E-I \n",
    "ei_node_attribute = {node: random.uniform(a=0.5, b=2) for node in g_m1.nodes()}\n",
    "#Stochastic transition I-R \n",
    "#will multiply recovery rate for some factor so it is between 14 and 28 days \n",
    "ir_node_attribute = {node: random.randint(a=1, b=2) for node in g_m1.nodes()}\n",
    "#Transmission weight - varies for each pair of interactions (some contacts are very transmisive, others not so)\n",
    "edge_attribute_dict = {edge: 0.5+random.random() for edge in g_m1.edges()} \n",
    "\n",
    "nx.set_node_attributes(g_m1, values=ei_node_attribute, name='expose2infect_weight')\n",
    "nx.set_node_attributes(g_m1, values=ir_node_attribute, name='infect2recove_weight')\n",
    "nx.set_edge_attributes(g_m1, values=edge_attribute_dict, name='transmission_weight')\n",
    "\n",
    "#g_m2\n",
    "\n",
    "#Stochastic transition E-I \n",
    "ei_node_attribute = {node: random.uniform(a=0.5, b=2) for node in g_m2.nodes()}\n",
    "#Stochastic transition I-R \n",
    "#will multiply recovery rate for some factor so it is between 14 and 28 days \n",
    "ir_node_attribute = {node: random.randint(a=1, b=2) for node in g_m2.nodes()}\n",
    "#Transmission weight - varies for each pair of interactions (some contacts are very transmisive, others not so)\n",
    "edge_attribute_dict = {edge: 0.5+random.random() for edge in g_m2.edges()} \n",
    "\n",
    "nx.set_node_attributes(g_m2, values=ei_node_attribute, name='expose2infect_weight')\n",
    "nx.set_node_attributes(g_m2, values=ir_node_attribute, name='infect2recove_weight')\n",
    "nx.set_edge_attributes(g_m2, values=edge_attribute_dict, name='transmission_weight')"
   ]
  },
  {
   "cell_type": "code",
   "execution_count": 120,
   "metadata": {},
   "outputs": [
    {
     "data": {
      "text/plain": [
       "<matplotlib.axes._subplots.AxesSubplot at 0x7fdf4e783a60>"
      ]
     },
     "execution_count": 120,
     "metadata": {},
     "output_type": "execute_result"
    },
    {
     "data": {
      "image/png": "[encoded data removed]",
      "text/plain": [
       "<Figure size 432x288 with 1 Axes>"
      ]
     },
     "metadata": {
      "needs_background": "light"
     },
     "output_type": "display_data"
    }
   ],
   "source": [
    "mod_m1 = EoN.Gillespie_simple_contagion(G=g_m1, \n",
    "                                            spontaneous_transition_graph=H,\n",
    "                                            nbr_induced_transition_graph=J, \n",
    "                                            IC=IC, \n",
    "                                            return_statuses=return_statuses,\n",
    "                                            return_full_data=True,\n",
    "                                            tmax=1000\n",
    "                                            )\n",
    "my_result = mod_m1\n",
    "\n",
    "my_result.summary()[0]\n",
    "\n",
    "predata = my_result.summary()[1]\n",
    "predata[\"t\"] = my_result.summary()[0]\n",
    "\n",
    "df = pd.DataFrame(predata)\n",
    "df = df.assign(I_pc=100*df['I']/poblacion_escalada)\n",
    "\n",
    "df.to_csv(\"results/redes_eon/mod_m1.csv\")\n",
    "\n",
    "df.plot(x=\"t\", y=\"I_pc\")"
   ]
  },
  {
   "cell_type": "code",
   "execution_count": 121,
   "metadata": {},
   "outputs": [
    {
     "data": {
      "text/plain": [
       "<matplotlib.axes._subplots.AxesSubplot at 0x7fdf4b1af8e0>"
      ]
     },
     "execution_count": 121,
     "metadata": {},
     "output_type": "execute_result"
    },
    {
     "data": {
      "image/png": "[encoded data removed]",
      "text/plain": [
       "<Figure size 432x288 with 1 Axes>"
      ]
     },
     "metadata": {
      "needs_background": "light"
     },
     "output_type": "display_data"
    }
   ],
   "source": [
    "mod_m2 = EoN.Gillespie_simple_contagion(G=g_m2, \n",
    "                                            spontaneous_transition_graph=H,\n",
    "                                            nbr_induced_transition_graph=J, \n",
    "                                            IC=IC, \n",
    "                                            return_statuses=return_statuses,\n",
    "                                            return_full_data=True,\n",
    "                                            tmax=1000\n",
    "                                            )\n",
    "my_result = mod_m2\n",
    "\n",
    "my_result.summary()[0]\n",
    "\n",
    "predata = my_result.summary()[1]\n",
    "predata[\"t\"] = my_result.summary()[0]\n",
    "\n",
    "df = pd.DataFrame(predata)\n",
    "df = df.assign(I_pc=100*df['I']/poblacion_escalada)\n",
    "\n",
    "df.to_csv(\"results/redes_eon/mod_m2.csv\")\n",
    "\n",
    "df.plot(x=\"t\", y=\"I_pc\")"
   ]
  },
  {
   "cell_type": "markdown",
   "metadata": {},
   "source": [
    "# Regreso modular, doble de población"
   ]
  },
  {
   "cell_type": "code",
   "execution_count": 122,
   "metadata": {},
   "outputs": [],
   "source": [
    "g_m3 = nx.convert_node_labels_to_integers(nx.read_graphml(\"results/redes_eon/g_reapertura_m3.graphml\"))\n"
   ]
  },
  {
   "cell_type": "code",
   "execution_count": 123,
   "metadata": {},
   "outputs": [],
   "source": [
    "#g_m3\n",
    "\n",
    "#Stochastic transition E-I \n",
    "ei_node_attribute = {node: random.uniform(a=0.5, b=2) for node in g_m3.nodes()}\n",
    "#Stochastic transition I-R \n",
    "#will multiply recovery rate for some factor so it is between 14 and 28 days \n",
    "ir_node_attribute = {node: random.randint(a=1, b=2) for node in g_m3.nodes()}\n",
    "#Transmission weight - varies for each pair of interactions (some contacts are very transmisive, others not so)\n",
    "edge_attribute_dict = {edge: 0.5+random.random() for edge in g_m3.edges()} \n",
    "\n",
    "nx.set_node_attributes(g_m3, values=ei_node_attribute, name='expose2infect_weight')\n",
    "nx.set_node_attributes(g_m3, values=ir_node_attribute, name='infect2recove_weight')\n",
    "nx.set_edge_attributes(g_m3, values=edge_attribute_dict, name='transmission_weight')\n"
   ]
  },
  {
   "cell_type": "code",
   "execution_count": 124,
   "metadata": {},
   "outputs": [
    {
     "data": {
      "text/plain": [
       "<matplotlib.axes._subplots.AxesSubplot at 0x7fdf419efbe0>"
      ]
     },
     "execution_count": 124,
     "metadata": {},
     "output_type": "execute_result"
    },
    {
     "data": {
      "image/png": "[encoded data removed]",
      "text/plain": [
       "<Figure size 432x288 with 1 Axes>"
      ]
     },
     "metadata": {
      "needs_background": "light"
     },
     "output_type": "display_data"
    }
   ],
   "source": [
    "mod_m3 = EoN.Gillespie_simple_contagion(G=g_m3, \n",
    "                                            spontaneous_transition_graph=H,\n",
    "                                            nbr_induced_transition_graph=J, \n",
    "                                            IC=IC, \n",
    "                                            return_statuses=return_statuses,\n",
    "                                            return_full_data=True,\n",
    "                                            tmax=1000\n",
    "                                            )\n",
    "my_result = mod_m3\n",
    "\n",
    "my_result.summary()[0]\n",
    "\n",
    "predata = my_result.summary()[1]\n",
    "predata[\"t\"] = my_result.summary()[0]\n",
    "\n",
    "df = pd.DataFrame(predata)\n",
    "df = df.assign(I_pc=100*df['I']/poblacion_escalada)\n",
    "\n",
    "df.to_csv(\"results/redes_eon/mod_m3.csv\")\n",
    "\n",
    "df.plot(x=\"t\", y=\"I_pc\")"
   ]
  },
  {
   "cell_type": "markdown",
   "metadata": {},
   "source": [
    "# Regreso modular, triple de población"
   ]
  },
  {
   "cell_type": "code",
   "execution_count": 125,
   "metadata": {},
   "outputs": [
    {
     "data": {
      "text/plain": [
       "<matplotlib.axes._subplots.AxesSubplot at 0x7fdf4d801610>"
      ]
     },
     "execution_count": 125,
     "metadata": {},
     "output_type": "execute_result"
    },
    {
     "data": {
      "image/png": "[encoded data removed]",
      "text/plain": [
       "<Figure size 432x288 with 1 Axes>"
      ]
     },
     "metadata": {
      "needs_background": "light"
     },
     "output_type": "display_data"
    }
   ],
   "source": [
    "g_m4 = nx.convert_node_labels_to_integers(nx.read_graphml(\"results/redes_eon/g_reapertura_m4.graphml\"))\n",
    "\n",
    "#g_m4\n",
    "\n",
    "#Stochastic transition E-I \n",
    "ei_node_attribute = {node: random.uniform(a=0.5, b=2) for node in g_m4.nodes()}\n",
    "#Stochastic transition I-R \n",
    "#will multiply recovery rate for some factor so it is between 14 and 28 days \n",
    "ir_node_attribute = {node: random.randint(a=1, b=2) for node in g_m4.nodes()}\n",
    "#Transmission weight - varies for each pair of interactions (some contacts are very transmisive, others not so)\n",
    "edge_attribute_dict = {edge: 0.5+random.random() for edge in g_m4.edges()} \n",
    "\n",
    "nx.set_node_attributes(g_m4, values=ei_node_attribute, name='expose2infect_weight')\n",
    "nx.set_node_attributes(g_m4, values=ir_node_attribute, name='infect2recove_weight')\n",
    "nx.set_edge_attributes(g_m4, values=edge_attribute_dict, name='transmission_weight')\n",
    "\n",
    "mod_m4 = EoN.Gillespie_simple_contagion(G=g_m4, \n",
    "                                            spontaneous_transition_graph=H,\n",
    "                                            nbr_induced_transition_graph=J, \n",
    "                                            IC=IC, \n",
    "                                            return_statuses=return_statuses,\n",
    "                                            return_full_data=True,\n",
    "                                            tmax=1000\n",
    "                                            )\n",
    "my_result = mod_m4\n",
    "\n",
    "my_result.summary()[0]\n",
    "\n",
    "predata = my_result.summary()[1]\n",
    "predata[\"t\"] = my_result.summary()[0]\n",
    "\n",
    "df = pd.DataFrame(predata)\n",
    "df = df.assign(I_pc=100*df['I']/poblacion_escalada)\n",
    "\n",
    "df.to_csv(\"results/redes_eon/mod_m4.csv\")\n",
    "\n",
    "df.plot(x=\"t\", y=\"I_pc\")"
   ]
  },
  {
   "cell_type": "markdown",
   "metadata": {},
   "source": [
    "# 20% de población, en módulos"
   ]
  },
  {
   "cell_type": "code",
   "execution_count": 126,
   "metadata": {},
   "outputs": [
    {
     "data": {
      "text/plain": [
       "<matplotlib.axes._subplots.AxesSubplot at 0x7fdf44fdcbb0>"
      ]
     },
     "execution_count": 126,
     "metadata": {},
     "output_type": "execute_result"
    },
    {
     "data": {
      "image/png": "[encoded data removed]",
      "text/plain": [
       "<Figure size 432x288 with 1 Axes>"
      ]
     },
     "metadata": {
      "needs_background": "light"
     },
     "output_type": "display_data"
    }
   ],
   "source": [
    "g_m5 = nx.convert_node_labels_to_integers(nx.read_graphml(\"results/redes_eon/g_reapertura_m5.graphml\"))\n",
    "\n",
    "#g_m5\n",
    "\n",
    "#Stochastic transition E-I \n",
    "ei_node_attribute = {node: random.uniform(a=0.5, b=2) for node in g_m5.nodes()}\n",
    "#Stochastic transition I-R \n",
    "#will multiply recovery rate for some factor so it is between 14 and 28 days \n",
    "ir_node_attribute = {node: random.randint(a=1, b=2) for node in g_m5.nodes()}\n",
    "#Transmission weight - varies for each pair of interactions (some contacts are very transmisive, others not so)\n",
    "edge_attribute_dict = {edge: 0.5+random.random() for edge in g_m5.edges()} \n",
    "\n",
    "nx.set_node_attributes(g_m5, values=ei_node_attribute, name='expose2infect_weight')\n",
    "nx.set_node_attributes(g_m5, values=ir_node_attribute, name='infect2recove_weight')\n",
    "nx.set_edge_attributes(g_m5, values=edge_attribute_dict, name='transmission_weight')\n",
    "\n",
    "mod_m5 = EoN.Gillespie_simple_contagion(G=g_m5, \n",
    "                                            spontaneous_transition_graph=H,\n",
    "                                            nbr_induced_transition_graph=J, \n",
    "                                            IC=IC, \n",
    "                                            return_statuses=return_statuses,\n",
    "                                            return_full_data=True,\n",
    "                                            tmax=1000\n",
    "                                            )\n",
    "my_result = mod_m5\n",
    "\n",
    "my_result.summary()[0]\n",
    "\n",
    "predata = my_result.summary()[1]\n",
    "predata[\"t\"] = my_result.summary()[0]\n",
    "\n",
    "df = pd.DataFrame(predata)\n",
    "df = df.assign(I_pc=100*df['I']/poblacion_escalada)\n",
    "\n",
    "df.to_csv(\"results/redes_eon/mod_m5.csv\")\n",
    "df.plot(x=\"t\", y=\"I_pc\")"
   ]
  },
  {
   "cell_type": "markdown",
   "metadata": {},
   "source": [
    "# 17.5 % poblacion "
   ]
  },
  {
   "cell_type": "code",
   "execution_count": 127,
   "metadata": {},
   "outputs": [
    {
     "data": {
      "text/plain": [
       "<matplotlib.axes._subplots.AxesSubplot at 0x7fdf3f4b0f10>"
      ]
     },
     "execution_count": 127,
     "metadata": {},
     "output_type": "execute_result"
    },
    {
     "data": {
      "image/png": "[encoded data removed]",
      "text/plain": [
       "<Figure size 432x288 with 1 Axes>"
      ]
     },
     "metadata": {
      "needs_background": "light"
     },
     "output_type": "display_data"
    }
   ],
   "source": [
    "g_m6 = nx.convert_node_labels_to_integers(nx.read_graphml(\"results/redes_eon/g_reapertura_m6.graphml\"))\n",
    "\n",
    "#g_m6\n",
    "\n",
    "#Stochastic transition E-I \n",
    "ei_node_attribute = {node: random.uniform(a=0.5, b=2) for node in g_m6.nodes()}\n",
    "#Stochastic transition I-R \n",
    "#will multiply recovery rate for some factor so it is between 14 and 28 days \n",
    "ir_node_attribute = {node: random.randint(a=1, b=2) for node in g_m6.nodes()}\n",
    "#Transmission weight - varies for each pair of interactions (some contacts are very transmisive, others not so)\n",
    "edge_attribute_dict = {edge: 0.5+random.random() for edge in g_m6.edges()} \n",
    "\n",
    "nx.set_node_attributes(g_m6, values=ei_node_attribute, name='expose2infect_weight')\n",
    "nx.set_node_attributes(g_m6, values=ir_node_attribute, name='infect2recove_weight')\n",
    "nx.set_edge_attributes(g_m6, values=edge_attribute_dict, name='transmission_weight')\n",
    "\n",
    "mod_m6 = EoN.Gillespie_simple_contagion(G=g_m6, \n",
    "                                            spontaneous_transition_graph=H,\n",
    "                                            nbr_induced_transition_graph=J, \n",
    "                                            IC=IC, \n",
    "                                            return_statuses=return_statuses,\n",
    "                                            return_full_data=True,\n",
    "                                            tmax=1000\n",
    "                                            )\n",
    "my_result = mod_m6\n",
    "\n",
    "my_result.summary()[0]\n",
    "\n",
    "predata = my_result.summary()[1]\n",
    "predata[\"t\"] = my_result.summary()[0]\n",
    "\n",
    "df = pd.DataFrame(predata)\n",
    "df = df.assign(I_pc=100*df['I']/poblacion_escalada)\n",
    "\n",
    "df.to_csv(\"results/redes_eon/mod_m6.csv\")\n",
    "df.plot(x=\"t\", y=\"I_pc\")"
   ]
  },
  {
   "cell_type": "code",
   "execution_count": null,
   "metadata": {},
   "outputs": [],
   "source": []
  }
 ],
 "metadata": {
  "kernelspec": {
   "display_name": "Python 3",
   "language": "python",
   "name": "python3"
  },
  "language_info": {
   "codemirror_mode": {
    "name": "ipython",
    "version": 3
   },
   "file_extension": ".py",
   "mimetype": "text/x-python",
   "name": "python",
   "nbconvert_exporter": "python",
   "pygments_lexer": "ipython3",
   "version": "3.8.2"
  }
 },
 "nbformat": 4,
 "nbformat_minor": 4
}
